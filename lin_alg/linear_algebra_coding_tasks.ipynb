{
 "cells": [
  {
   "cell_type": "code",
   "execution_count": 13,
   "metadata": {},
   "outputs": [],
   "source": [
    "# importing stuff\n",
    "\n",
    "import numpy as np\n",
    "import matplotlib.pyplot as plt\n",
    "from sklearn.datasets import load_digits"
   ]
  },
  {
   "cell_type": "markdown",
   "metadata": {},
   "source": [
    "# Task 1 - Some basic matrix vector operations\n",
    "\n",
    "In python we usually use numpy to do linear algebra. It is a package with a lot of functionality and fast implementation. Matrices are represented as numpy arrays. We are now going to take some matrices, implement them as numpy arrays and play around with them.\n",
    "\n",
    "1a) Take the matrix bellow and write it as a numpy array. Try transposing it. Try inverting it. What is the determinant of A? Numpy has implementations for all of these operations\n",
    "\n",
    "$\\mathbf{A} = \\begin{bmatrix} \n",
    "    2 & 1 & 2 \\\\ \n",
    "    -2 & 2 & -1 \\\\ \n",
    "    4 & 1 & 2 \n",
    "\\end{bmatrix}\n",
    "$\n",
    "\n",
    "1b) Implement the vector **b** = [4,1,-3]. Try transforming it with the matrix. Watch out how you do matrix multiplication in numpy. We do NOT use the * operator. This will perform element wise multiplication. We wish to rather use the @ operator, which performs matrix multiplication. The alternative is using the command matmul from numpy's linalg package.\n",
    "\n",
    "\n",
    "1c) Solve the system of equations Ax = b. That is, if the A you implemented was the transformation and b is where x ended up, where did x start off? Is there a better way of doing this than inverting the matrix (checkout the np.linalg.solve function)? What is the determinant of the inverted matrix? Does the determinant of the inverse make sense, considering what the determinant of A was?"
   ]
  },
  {
   "cell_type": "code",
   "execution_count": 12,
   "metadata": {},
   "outputs": [],
   "source": [
    "## Example of how to do a 2x2 matrix and a 2x2 vector\n",
    "\n",
    "A = np.array([[1,2], [3,4]])\n",
    "\n",
    "b = np.array([1,3])\n"
   ]
  },
  {
   "cell_type": "markdown",
   "metadata": {},
   "source": [
    "# Task 2 - Thrust Allocation\n",
    "\n",
    "### Attention! Warning! Danger !!!\n",
    "\n",
    "The solar system is invaded by the cybernetic ... robot army from ... outer space ... or something. You are a control engineer aboard the HMS Beluga, the only line of defence the earth has left. The evil invades are speeding past the Kuiper Belt and have fired a few projectiles your way. Thankfully you have an amazing Perception team aboard Beluga who has detected and tracked the rockets. The controller has even given you the desired generalized force needed to dodge the attack. But wait! Thrust needs to be allocated before the command can be performed and you just now remember that it was your responsibility, but you have procrastinated the job. Quick! The estimated time of impact is 5 minutes (if you trust your Perception group, which you don't). You have to implement the thruster matrix and solve the thrust allocation problem, in order to obtain the thruster command needed to dodge the attack.\n",
    "\n",
    "$\\tau_{desired} = [0, 100, 70, 0, 69, 5]$\n",
    "\n",
    "2a) Implement the thruster allocation matrix of Beluga as a numpy array. You can find it in the vortexntnu github, in the auv repo under config/robots/beluga.yaml https://github.com/vortexntnu/vortex-auv\n",
    "\n",
    "\n",
    "2b) Perform the thrust allocation. Assume K is the 8x8 identity (there is a function for implementing the identity directly in numpy, google it!), that is we are assuming our input is directly in force units. Use numpy's implementation of the pseudoinverse to solve for u.\n",
    "\n",
    "2c) Thankfully you dodged the projectile, and your thrust allocation will take care of future danger. This means you have time to reflect on what you just did and learn some stuff! The desired generalized force vector, what sort of maneuver will it perform? The obtained solution, which thrusters does it use and does this make sense for the maneuver performed? Discuss these with your collegues."
   ]
  },
  {
   "cell_type": "code",
   "execution_count": null,
   "metadata": {},
   "outputs": [],
   "source": []
  },
  {
   "cell_type": "markdown",
   "metadata": {},
   "source": [
    "# Task 3 - The SVD\n",
    "\n",
    "Here we will use the SVD in a Computer Vision context. We will represent a picture in a reduced rank manner, that is we will truncate the SVD.\n",
    "\n",
    "3a) Load the image lena_dot_jpeg from the data folder. This can be done via the matplotlib library, checkout its docummentation. Display the image with the display_image function. Print the shape of the numpy array representing the image with the command np.shape \n",
    "\n",
    "3b) Implement the function convert_to_grayscale, which converts the image to grayscale by taking the average of the channels. Display the resulting grayscale image\n",
    "\n",
    "3c) Take the SVD of the grayscale image. Check out the docummentation of numpy's implementation to see exactly what you get out. Check out the dimensions of the $U$, $\\Sigma$ and $V^T$ matrices\n",
    "\n",
    "3d) Truncate the SVD to the r-th rank, and checkout how the image looks. How many singular vectors do you need in order to get the image reconstructed nicely?\n",
    "\n",
    "3e) Call the plot_explained_var function on the grayscale image, which will visualize the explained variance as a function of truncation order. How does this fit with your discussion from the last task?\n",
    "\n",
    "The SVD can be used for extreme denoising of an image. Since it provides a hierarchy of modes, ranked after their importance in explaining the variance in the data, the last few singular vectors/values will contain only noise. Thus, the lower the truncation order, the more noise gets cut out. However at some point we will start cutting out structure as well. We will now investigate what happens to a noisy image as we try to reconstruct it with different order of SVD truncation.\n",
    "\n",
    "3f) Load the digits dataset and add noise to it. Display both versions. This is already done in a cell bellow, just run it. Notice how noisy the digits got. Try approximating the dataset with a truncated SVD. What happens to the noise? Can you go too low (cut out too much structure)? Discuss your finding with your collegues"
   ]
  },
  {
   "cell_type": "code",
   "execution_count": 17,
   "metadata": {},
   "outputs": [],
   "source": [
    "# Functions \n",
    "# Implement functions here\n",
    "\n",
    "def convert_to_grayscale(img):\n",
    "    \"\"\"\n",
    "    Takes an image img which is a NxMx3 numpy array, and averages out the channels such that one gets a grayscale image.\n",
    "    \"\"\"\n",
    "\n",
    "    img_gray = ... # TODO\n",
    "\n",
    "    return img_gray\n",
    "    \n",
    "\n",
    "def display_img(img):\n",
    "    \"\"\"\n",
    "    Displays the image automatically as grayscale or rgb depending on what image you pass in\n",
    "    \"\"\"\n",
    "    if len(np.shape(img)) == 2:\n",
    "        plt.imshow(img, cmap=\"gray\")\n",
    "        plt.show()\n",
    "    else:\n",
    "        plt.imshow(img)\n",
    "        plt.show()\n",
    "\n",
    "def plot_explained_var(X):\n",
    "    \"\"\"\n",
    "    Performs SVD on the data matrix X and plots the explained variance as a function of the truncation order\n",
    "\n",
    "    Consider that our image is an NxM matrix. This means that we can interpret it as N M-dimensional samples\n",
    "    \"\"\"\n",
    "    n_samples = np.shape(X)[0]\n",
    "\n",
    "    U, S, VT = np.linalg.svd(X) # TODO: perform SVD\n",
    "\n",
    "    explained_var = (S ** 2) / (n_samples - 1)\n",
    "    total_var = explained_var.sum()\n",
    "    explained_var_ratio = explained_var / total_var # TODO: Take the ratio between the explained and total variance\n",
    "\n",
    "    cum_var = np.cumsum(explained_var_ratio) # TODO: compute the comulative variance\n",
    "    r = np.linspace(1,len(S),len(S))\n",
    "\n",
    "    plt.plot(r, cum_var)\n",
    "    plt.grid()\n",
    "    plt.xlabel(\"Truncation Order\")\n",
    "    plt.ylabel(\"Cumulative Explained Variance\")\n",
    "\n",
    "def plot_digits(data):\n",
    "    fig, axes = plt.subplots(\n",
    "        4, 10, figsize=(10, 4),\n",
    "        subplot_kw={'xticks':[], 'yticks':[]},\n",
    "        gridspec_kw=dict(hspace=0.1, wspace=0.1)\n",
    "    )\n",
    "\n",
    "    for i, ax in enumerate(axes.flat):\n",
    "        ax.imshow(\n",
    "            data[i].reshape(8, 8),\n",
    "            cmap='binary', interpolation='nearest', clim=(0, 16)\n",
    "        )"
   ]
  },
  {
   "cell_type": "code",
   "execution_count": null,
   "metadata": {},
   "outputs": [],
   "source": [
    "# 3a) load and display the image\n",
    "\n",
    "img = ... # load image 3a)\n",
    "\n",
    "display_img(img)"
   ]
  },
  {
   "cell_type": "code",
   "execution_count": null,
   "metadata": {},
   "outputs": [],
   "source": [
    "# 3b) Convert the image to grayscale by implementng the convert_to_grayscale function. Display the grayscale image\n",
    "\n",
    "img_gray = ..."
   ]
  },
  {
   "cell_type": "code",
   "execution_count": null,
   "metadata": {},
   "outputs": [],
   "source": [
    "# 3c) perform svd, checkout the SVD docummentation: https://numpy.org/doc/stable/reference/generated/numpy.linalg.svd.html\n",
    "# what values do you get out of the SVD?\n",
    "\n",
    "U, S, VT = ..."
   ]
  },
  {
   "cell_type": "code",
   "execution_count": null,
   "metadata": {},
   "outputs": [],
   "source": [
    "# 3d) approximate the matrix (image) by a rank r SVD truncation. That is, reconstruct it using the first r singular vectors and values\n",
    "\n",
    "r = ...\n",
    "\n",
    "U, S, VT = ...\n",
    "\n",
    "img_approx = ..."
   ]
  },
  {
   "cell_type": "code",
   "execution_count": null,
   "metadata": {},
   "outputs": [],
   "source": [
    "# 3e) do the explained variance plot of the greyscale image\n",
    "\n",
    "plot_explained_var(img_gray)"
   ]
  },
  {
   "cell_type": "code",
   "execution_count": 20,
   "metadata": {},
   "outputs": [
    {
     "data": {
      "image/png": "[encoded data removed]",
      "text/plain": [
       "<Figure size 720x288 with 40 Axes>"
      ]
     },
     "metadata": {},
     "output_type": "display_data"
    },
    {
     "data": {
      "image/png": "[encoded data removed]",
      "text/plain": [
       "<Figure size 720x288 with 40 Axes>"
      ]
     },
     "metadata": {},
     "output_type": "display_data"
    }
   ],
   "source": [
    "# Load the data for task 3f)\n",
    "digits = load_digits()\n",
    "\n",
    "X = digits.data\n",
    "\n",
    "plot_digits(X)\n",
    "\n",
    "np.random.seed(42)\n",
    "noisy_digits = np.random.normal(X, 4)\n",
    "\n",
    "plot_digits(noisy_digits)"
   ]
  },
  {
   "cell_type": "code",
   "execution_count": null,
   "metadata": {},
   "outputs": [],
   "source": [
    "## TODO: denoise the noisy_digits via SVD truncation\n",
    "\n",
    "np.random.seed(42)\n",
    "noisy_digits = np.random.normal(X, 4)\n",
    "\n",
    "r = ...\n",
    "\n",
    "U, S, VT = ...\n",
    "\n",
    "denoised_digits = ...\n",
    "\n",
    "plot_digits(denoised_digits)"
   ]
  }
 ],
 "metadata": {
  "kernelspec": {
   "display_name": "Python 3.10.2 64-bit",
   "language": "python",
   "name": "python3"
  },
  "language_info": {
   "name": "python",
   "version": "3.10.2"
  },
  "orig_nbformat": 4,
  "vscode": {
   "interpreter": {
    "hash": "feabd682d07e1de51ad16ab4c1d1a4968bc1b5ada19ac01ce8b5d3e05f7cf136"
   }
  }
 },
 "nbformat": 4,
 "nbformat_minor": 2
}
